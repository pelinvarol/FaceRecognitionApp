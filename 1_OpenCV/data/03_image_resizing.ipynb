{
 "cells": [
  {
   "cell_type": "code",
   "execution_count": 4,
   "id": "7bdf98d3",
   "metadata": {},
   "outputs": [],
   "source": [
    "import numpy as np\n",
    "import cv2"
   ]
  },
  {
   "cell_type": "code",
   "execution_count": null,
   "id": "1ae9ee55",
   "metadata": {},
   "outputs": [],
   "source": [
    "#loading image\n",
    "img = cv2.imread('flying_bird.jpg')\n",
    "\n",
    "print(img.shape)\n",
    "cv2.imshow('original image', img)\n",
    "cv2.waitKey(0)\n",
    "cv2.destroyAllWindows()"
   ]
  },
  {
   "cell_type": "code",
   "execution_count": null,
   "id": "1052387d",
   "metadata": {},
   "outputs": [],
   "source": [
    "###TASKS\n",
    "1. Shrink the image\n",
    "2. Enlarge the image"
   ]
  },
  {
   "cell_type": "code",
   "execution_count": null,
   "id": "32af7cc6",
   "metadata": {},
   "outputs": [],
   "source": []
  }
 ],
 "metadata": {
  "kernelspec": {
   "display_name": "Python 3 (ipykernel)",
   "language": "python",
   "name": "python3"
  },
  "language_info": {
   "codemirror_mode": {
    "name": "ipython",
    "version": 3
   },
   "file_extension": ".py",
   "mimetype": "text/x-python",
   "name": "python",
   "nbconvert_exporter": "python",
   "pygments_lexer": "ipython3",
   "version": "3.10.4"
  }
 },
 "nbformat": 4,
 "nbformat_minor": 5
}
