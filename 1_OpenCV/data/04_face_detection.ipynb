{
 "cells": [
  {
   "cell_type": "code",
   "execution_count": 1,
   "id": "970c868b",
   "metadata": {},
   "outputs": [],
   "source": [
    "import numpy as np\n",
    "import cv2\n"
   ]
  },
  {
   "cell_type": "code",
   "execution_count": 18,
   "id": "0a064f3f",
   "metadata": {},
   "outputs": [],
   "source": [
    "img = cv2.imread('friends.jpg')\n",
    "cv2.imshow('image', img)\n",
    "cv2.waitKey()\n",
    "cv2.destroyAllWindows()"
   ]
  },
  {
   "cell_type": "code",
   "execution_count": 19,
   "id": "41f65e9a",
   "metadata": {},
   "outputs": [],
   "source": [
    "# load cascade classifier\n",
    "haar = cv2.CascadeClassifier('haarcascade_frontalface_default.xml')"
   ]
  },
  {
   "cell_type": "code",
   "execution_count": 20,
   "id": "0350f9fd",
   "metadata": {},
   "outputs": [],
   "source": [
    "image = img.copy()\n",
    "# step 1: convert image to grayscale\n",
    "grayscale_img = cv2.cvtColor(img, cv2.COLOR_BGR2GRAY)\n",
    "# step 2: apply grayscale image to cascade classifier\n",
    "face_rect = haar.detectMultiScale(grayscale_img, 1.3,5)\n",
    "# step 3: draw bounding box\n",
    "for x,y,w,h in face_rect:\n",
    "    cv2.rectangle(image,(x,y),(x+w, y+h),(0,255,0),2)\n",
    "    \n",
    "#displaying detected faces\n",
    "cv2.imshow('Detected faces',image)\n",
    "cv2.waitKey()\n",
    "cv2.destroyAllWindows()"
   ]
  },
  {
   "cell_type": "code",
   "execution_count": 7,
   "id": "1c04dd69",
   "metadata": {},
   "outputs": [
    {
     "name": "stdout",
     "output_type": "stream",
     "text": [
      "[[149 259  30  30]\n",
      " [126   4  68  68]\n",
      " [128 107  96  96]\n",
      " [255  90  95  95]\n",
      " [407  92  95  95]]\n"
     ]
    }
   ],
   "source": [
    "print(face_rect)"
   ]
  },
  {
   "cell_type": "markdown",
   "id": "6787f800",
   "metadata": {},
   "source": [
    "### Real Time Face Detection using OpenCV"
   ]
  },
  {
   "cell_type": "code",
   "execution_count": 26,
   "id": "a4856ea0",
   "metadata": {},
   "outputs": [],
   "source": [
    "cap = cv2.VideoCapture('video.mp4')\n",
    "# if the video is corrupted or someting is wrong with the video, than that's the information we can able to get find in the ret,\n",
    "# as a True or False.If ret is false, then we need to break the loop. Otherwise, we will show the frame.\n",
    "\n",
    "while True:\n",
    "    ret, frame = cap.read()\n",
    "    if ret == False:\n",
    "        break\n",
    "        \n",
    "    image = frame.copy()\n",
    "    # step 1: convert image to grayscale\n",
    "    grayscale_img = cv2.cvtColor(image, cv2.COLOR_BGR2GRAY)\n",
    "    # step 2: apply grayscale image to cascade classifier\n",
    "    face_rect = haar.detectMultiScale(grayscale_img, 1.3,5)\n",
    "    # step 3: draw bounding box\n",
    "    for x,y,w,h in face_rect:\n",
    "        cv2.rectangle(image,(x,y),(x+w, y+h),(0,255,0),2)\n",
    "    cv2.imshow('face detection', image)\n",
    "        \n",
    "    if cv2.waitKey(10) == 27: # 27 is for ESCAPE key\n",
    "        break\n",
    "        \n",
    "cap.release()\n",
    "cv2.destroyAllWindows()"
   ]
  },
  {
   "cell_type": "code",
   "execution_count": null,
   "id": "efedc2e0",
   "metadata": {},
   "outputs": [],
   "source": []
  }
 ],
 "metadata": {
  "kernelspec": {
   "display_name": "Python 3 (ipykernel)",
   "language": "python",
   "name": "python3"
  },
  "language_info": {
   "codemirror_mode": {
    "name": "ipython",
    "version": 3
   },
   "file_extension": ".py",
   "mimetype": "text/x-python",
   "name": "python",
   "nbconvert_exporter": "python",
   "pygments_lexer": "ipython3",
   "version": "3.10.4"
  }
 },
 "nbformat": 4,
 "nbformat_minor": 5
}
