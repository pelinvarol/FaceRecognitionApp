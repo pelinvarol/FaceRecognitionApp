{
 "cells": [
  {
   "cell_type": "code",
   "execution_count": 1,
   "id": "267dfc1a",
   "metadata": {},
   "outputs": [],
   "source": [
    "import numpy as np\n",
    "import cv2\n",
    "import matplotlib.image as matimg\n",
    "from PIL import Image\n",
    "\n",
    "import matplotlib.pyplot as plt"
   ]
  },
  {
   "cell_type": "code",
   "execution_count": 3,
   "id": "f8111461",
   "metadata": {},
   "outputs": [],
   "source": [
    "# openCV\n",
    "img_cv = cv2.imread('flying_bird.jpg')\n",
    "# matplotlib\n",
    "img_mat = matimg.imread('flying_bird.jpg')\n",
    "# pillow\n",
    "img_pil = Image.open('flying_bird.jpg')"
   ]
  },
  {
   "cell_type": "code",
   "execution_count": 4,
   "id": "2a2a9207",
   "metadata": {},
   "outputs": [
    {
     "name": "stdout",
     "output_type": "stream",
     "text": [
      "[[[ 21  48  92]\n",
      "  [ 19  46  90]\n",
      "  [ 16  42  88]\n",
      "  ...\n",
      "  [  0  14  13]\n",
      "  [  0  11  10]\n",
      "  [  0  15  14]]\n",
      "\n",
      " [[ 17  44  88]\n",
      "  [ 16  43  87]\n",
      "  [ 15  41  87]\n",
      "  ...\n",
      "  [  4  20  19]\n",
      "  [  1  17  16]\n",
      "  [  0  13  12]]\n",
      "\n",
      " [[ 19  45  91]\n",
      "  [ 19  45  91]\n",
      "  [ 19  45  92]\n",
      "  ...\n",
      "  [  4  22  21]\n",
      "  [  7  23  22]\n",
      "  [  0  15  14]]\n",
      "\n",
      " ...\n",
      "\n",
      " [[ 29  57  88]\n",
      "  [ 36  64  95]\n",
      "  [ 40  65  97]\n",
      "  ...\n",
      "  [  1 102  77]\n",
      "  [  2  98  74]\n",
      "  [  1  97  73]]\n",
      "\n",
      " [[ 36  62  92]\n",
      "  [ 38  64  94]\n",
      "  [ 39  65  95]\n",
      "  ...\n",
      "  [  1 102  77]\n",
      "  [  3  99  75]\n",
      "  [  1  97  73]]\n",
      "\n",
      " [[ 36  62  92]\n",
      "  [ 34  60  90]\n",
      "  [ 34  60  90]\n",
      "  ...\n",
      "  [  0 100  75]\n",
      "  [  1  97  73]\n",
      "  [  1  97  73]]]\n"
     ]
    }
   ],
   "source": [
    "print(img_cv)"
   ]
  },
  {
   "cell_type": "code",
   "execution_count": 4,
   "id": "6fa88a92",
   "metadata": {},
   "outputs": [
    {
     "name": "stdout",
     "output_type": "stream",
     "text": [
      "[[[ 92  48  21]\n",
      "  [ 90  46  19]\n",
      "  [ 88  42  16]\n",
      "  ...\n",
      "  [ 13  14   0]\n",
      "  [ 10  11   0]\n",
      "  [ 14  15   0]]\n",
      "\n",
      " [[ 88  44  17]\n",
      "  [ 87  43  16]\n",
      "  [ 87  41  15]\n",
      "  ...\n",
      "  [ 19  20   4]\n",
      "  [ 16  17   1]\n",
      "  [ 12  13   0]]\n",
      "\n",
      " [[ 91  45  19]\n",
      "  [ 91  45  19]\n",
      "  [ 92  45  19]\n",
      "  ...\n",
      "  [ 21  22   4]\n",
      "  [ 22  23   7]\n",
      "  [ 14  15   0]]\n",
      "\n",
      " ...\n",
      "\n",
      " [[ 88  57  29]\n",
      "  [ 95  64  36]\n",
      "  [ 97  65  40]\n",
      "  ...\n",
      "  [ 77 102   1]\n",
      "  [ 74  98   2]\n",
      "  [ 73  97   1]]\n",
      "\n",
      " [[ 92  62  36]\n",
      "  [ 94  64  38]\n",
      "  [ 95  65  39]\n",
      "  ...\n",
      "  [ 77 102   1]\n",
      "  [ 75  99   3]\n",
      "  [ 73  97   1]]\n",
      "\n",
      " [[ 92  62  36]\n",
      "  [ 90  60  34]\n",
      "  [ 90  60  34]\n",
      "  ...\n",
      "  [ 75 100   0]\n",
      "  [ 73  97   1]\n",
      "  [ 73  97   1]]]\n"
     ]
    }
   ],
   "source": [
    "print(img_mat)"
   ]
  },
  {
   "cell_type": "code",
   "execution_count": null,
   "id": "29950eb1",
   "metadata": {},
   "outputs": [],
   "source": [
    "img_pil\n",
    "img_pil_arr = np.array(img_pil)\n"
   ]
  },
  {
   "cell_type": "code",
   "execution_count": null,
   "id": "8670e9bf",
   "metadata": {},
   "outputs": [],
   "source": [
    "cv2.imshow('window_name', img_cv)\n",
    "cv2.imshow('matplotlib', img_mat)\n",
    "cv2.waitKey(0)\n",
    "cv2.destroyAllWindows()\n"
   ]
  },
  {
   "cell_type": "code",
   "execution_count": null,
   "id": "7f125053",
   "metadata": {},
   "outputs": [],
   "source": [
    "plt.figure(figsize=(15,6))\n",
    "plt.subplot(1,3,1)\n",
    "plt.imshow(img_cv)\n",
    "plt.axis('off')\n",
    "plt.title('OpenCV BGR')\n",
    "\n",
    "plt.subplot(1,3,2)\n",
    "plt.imshow(img_mat)\n",
    "plt.axis('off')\n",
    "plt.title('Matplotlib RGB')\n",
    "\n",
    "plt.subplot(1,3,3)\n",
    "plt.imshow(img_pil_arr)\n",
    "plt.axis('off')\n",
    "plt.title('Pillow RGB')"
   ]
  },
  {
   "cell_type": "code",
   "execution_count": null,
   "id": "4307803a",
   "metadata": {},
   "outputs": [],
   "source": [
    "img_cv.shape"
   ]
  },
  {
   "cell_type": "code",
   "execution_count": null,
   "id": "3c38747e",
   "metadata": {},
   "outputs": [],
   "source": [
    "#numpy slicing\n",
    "# BGR\n",
    "b = img_cv[:,:,0]\n",
    "g = img_cv[:,:,1]\n",
    "r = img_cv[:,:,2]"
   ]
  },
  {
   "cell_type": "code",
   "execution_count": null,
   "id": "eeb54d84",
   "metadata": {},
   "outputs": [],
   "source": [
    "cv2.imshow('blue channel', b)\n",
    "cv2.imshow('green channel', g)\n",
    "cv2.imshow('red channel', r)\n",
    "\n",
    "cv2.waitKey(0)\n",
    "cv2.destroyAllWindows()"
   ]
  },
  {
   "cell_type": "code",
   "execution_count": null,
   "id": "2eddf5ae",
   "metadata": {},
   "outputs": [],
   "source": [
    "b, g, r = cv2.split(img_cv)"
   ]
  },
  {
   "cell_type": "code",
   "execution_count": null,
   "id": "dd19f554",
   "metadata": {},
   "outputs": [],
   "source": [
    "b.shape, g.shape, r.shape, img_cv.shape"
   ]
  },
  {
   "cell_type": "code",
   "execution_count": null,
   "id": "a09cf5b4",
   "metadata": {},
   "outputs": [],
   "source": [
    "# converting image colors\n",
    "cv2.cvtColor(img_cv, cv2.COLOR_BGR2RGB)"
   ]
  },
  {
   "cell_type": "code",
   "execution_count": null,
   "id": "37388eb6",
   "metadata": {},
   "outputs": [],
   "source": []
  },
  {
   "cell_type": "code",
   "execution_count": null,
   "id": "99bb0365",
   "metadata": {},
   "outputs": [],
   "source": []
  }
 ],
 "metadata": {
  "kernelspec": {
   "display_name": "Python 3 (ipykernel)",
   "language": "python",
   "name": "python3"
  },
  "language_info": {
   "codemirror_mode": {
    "name": "ipython",
    "version": 3
   },
   "file_extension": ".py",
   "mimetype": "text/x-python",
   "name": "python",
   "nbconvert_exporter": "python",
   "pygments_lexer": "ipython3",
   "version": "3.10.4"
  }
 },
 "nbformat": 4,
 "nbformat_minor": 5
}
